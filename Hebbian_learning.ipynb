{
 "cells": [
  {
   "cell_type": "markdown",
   "metadata": {},
   "source": [
    "# Hebbian Learning"
   ]
  },
  {
   "cell_type": "markdown",
   "metadata": {},
   "source": [
    "This is a very simple example of Hebbian learning. On an image below, there are three input neurons, A, and one output neuron, B:\n",
    "![Neurons A are inputs to neuron B](img/hebb.png)"
   ]
  },
  {
   "cell_type": "markdown",
   "metadata": {},
   "source": [
    "To model the relationship of the neurons, initialize weights and inputs. First, generate initial weights with mean of .5 and standard deviation of .1. Second, assume that the first of three A neurons is activated"
   ]
  },
  {
   "cell_type": "code",
   "execution_count": 30,
   "metadata": {
    "collapsed": true
   },
   "outputs": [],
   "source": [
    "import numpy as np\n",
    "\n",
    "weights=np.random.normal(.5,.1,3)\n",
    "inputs=[1,0,0]"
   ]
  },
  {
   "cell_type": "markdown",
   "metadata": {},
   "source": [
    "Compute activation sum for neuron B, which fires too as  \n",
    "$$y = \\sum_{a}{w_a x_a}$$\n",
    "were *w* is the weight and *x* is the activation of a neuron *a*"
   ]
  },
  {
   "cell_type": "code",
   "execution_count": 31,
   "metadata": {
    "collapsed": false
   },
   "outputs": [],
   "source": [
    "actB=np.sum(weights*inputs)"
   ]
  },
  {
   "cell_type": "markdown",
   "metadata": {},
   "source": [
    "Compute and examine new weights for neurons A  \n",
    "$$\\Delta w_a = w_a + \\alpha x_a y$$  "
   ]
  },
  {
   "cell_type": "code",
   "execution_count": 32,
   "metadata": {
    "collapsed": false
   },
   "outputs": [
    {
     "name": "stdout",
     "output_type": "stream",
     "text": [
      "Initial weights (1 ,2 ,3):  [ 0.42706252  0.50854203  0.52222371]\n",
      "New weights (1 ,2 ,3):      [ 0.46976877  0.50854203  0.52222371]\n"
     ]
    }
   ],
   "source": [
    "rate=.1\n",
    "new_weights=weights+np.multiply(rate*actB,inputs)\n",
    "print \"Initial weights (1 ,2 ,3): \", weights\n",
    "print \"New weights (1 ,2 ,3):     \", new_weights"
   ]
  },
  {
   "cell_type": "markdown",
   "metadata": {},
   "source": [
    "As we see, the first A neuron was activated along with B and hence has more weight - stronger synaptic connection with neuron B. The other two neurons have the same baseline weights, because they did not fire."
   ]
  },
  {
   "cell_type": "markdown",
   "metadata": {},
   "source": [
    "*Reference: https://en.wikipedia.org/wiki/Hebbian_theory*"
   ]
  }
 ],
 "metadata": {
  "kernelspec": {
   "display_name": "Python [Root]",
   "language": "python",
   "name": "Python [Root]"
  },
  "language_info": {
   "codemirror_mode": {
    "name": "ipython",
    "version": 2
   },
   "file_extension": ".py",
   "mimetype": "text/x-python",
   "name": "python",
   "nbconvert_exporter": "python",
   "pygments_lexer": "ipython2",
   "version": "2.7.12"
  }
 },
 "nbformat": 4,
 "nbformat_minor": 0
}
