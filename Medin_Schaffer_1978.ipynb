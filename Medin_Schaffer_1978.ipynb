{
 "cells": [
  {
   "cell_type": "markdown",
   "metadata": {},
   "source": [
    "Today we will simulate experiments on [Context Theory of Classification Learning](http://groups.psych.northwestern.edu/medin/documents/MedinSchaffer1978PsychRev.pdf) (Medin & Schaffer, 1978).\n",
    "**Important differences between simulated and published results will be shown.**  \n",
    "Dr. Medin kindly confirmed the typos in the paper and asked to publish them somewhere.\n",
    "\n",
    "# Set up the model:"
   ]
  },
  {
   "cell_type": "code",
   "execution_count": 18,
   "metadata": {
    "collapsed": false
   },
   "outputs": [],
   "source": [
    "import numpy as np\n",
    "\n",
    "def model(exemplars,trans_stim,exemplars_names,trans_stim_names,pars,An,Bn):\n",
    "    all_stim=np.concatenate((exemplars,trans_stim))\n",
    "    all_stim_names=np.concatenate((exemplars_names,trans_stim_names))\n",
    "    \n",
    "    category =['A']*An\n",
    "    category.extend('B'*Bn)\n",
    "    category=np.array(category)\n",
    "    print \"Stimulus number\\t\\tPredicted probability\"\n",
    "    \n",
    "    for i in range(len(all_stim)):\n",
    "\n",
    "        stim=all_stim[i]\n",
    "        stim_name=all_stim_names[i]\n",
    "        dists=abs(exemplars-stim)\n",
    "        sims=np.prod((1-dists)+dists*pars,axis=1)\n",
    "        simA=sum(sims[np.where(category=='A')[0]])\n",
    "        simALL=sum(sims)\n",
    "        prA=simA/simALL\n",
    "        print stim_name+'\\t\\t\\t'+str(max([prA,1-prA]))"
   ]
  },
  {
   "cell_type": "markdown",
   "metadata": {},
   "source": [
    "# Experiment 2"
   ]
  },
  {
   "cell_type": "code",
   "execution_count": 19,
   "metadata": {
    "collapsed": false
   },
   "outputs": [
    {
     "name": "stdout",
     "output_type": "stream",
     "text": [
      "Stimulus number\t\tPredicted probability\n",
      "4A\t\t\t0.780826893395\n",
      "7A\t\t\t0.937461286104\n",
      "15A\t\t\t0.967828145282\n",
      "13A\t\t\t0.862532220995\n",
      "5A\t\t\t0.859324492861\n",
      "12B\t\t\t0.747772198851\n",
      "2B\t\t\t0.76110945422\n",
      "14B\t\t\t0.92887283743\n",
      "10B\t\t\t0.963648568404\n",
      "1A\t\t\t0.645347147878\n",
      "6A\t\t\t0.926105712059\n",
      "9A\t\t\t0.602958902172\n",
      "11A\t\t\t0.605683339728\n",
      "3B\t\t\t0.574466033716\n",
      "8B\t\t\t0.615471548188\n",
      "16B\t\t\t0.864824603505\n"
     ]
    }
   ],
   "source": [
    "exemplars=np.array([[1,1,1,0],[1,0,1,0],[1,0,1,1],[1,1,0,1],[0,1,1,1],[1,1,0,0],[0,1,1,0],[0,0,0,1],[0,0,0,0]])\n",
    "trans_stim=np.array([[1,0,0,1],[1,1,1,1],[0,1,0,1],[0,0,1,1],[1,0,0,0],[0,0,1,0],[0,1,0,0]])\n",
    "exemplars_names=np.array(['4A','7A','15A','13A','5A','12B','2B','14B','10B'])\n",
    "trans_stim_names=np.array(['1A','6A','9A','11A','3B','8B','16B'])\n",
    "pars=np.array([.16,.16,.18,.14])\n",
    "model(exemplars,trans_stim,exemplars_names,trans_stim_names,pars,5,4)"
   ]
  },
  {
   "cell_type": "markdown",
   "metadata": {},
   "source": [
    "When we compare the answers with the Table 1 from the paper, we will see the **differences** in stimuli 9A, 11A, 3B.\n",
    "![Table 1](img/medin1.png)"
   ]
  },
  {
   "cell_type": "markdown",
   "metadata": {},
   "source": [
    "# Experiment 3 "
   ]
  },
  {
   "cell_type": "code",
   "execution_count": 21,
   "metadata": {
    "collapsed": false
   },
   "outputs": [
    {
     "name": "stdout",
     "output_type": "stream",
     "text": [
      "Stimulus number\t\tPredicted probability\n",
      "4A\t\t\t0.929577464789\n",
      "7A\t\t\t0.987714987715\n",
      "15A\t\t\t0.994694960212\n",
      "13A\t\t\t0.727520435967\n",
      "5A\t\t\t0.700280112045\n",
      "12B\t\t\t0.65445026178\n",
      "2B\t\t\t0.719887955182\n",
      "14B\t\t\t0.985994397759\n",
      "10B\t\t\t0.994397759104\n",
      "1A\t\t\t0.81308411215\n",
      "6A\t\t\t0.951219512195\n",
      "9B\t\t\t0.761904761905\n",
      "11B\t\t\t0.52380952381\n",
      "3A\t\t\t0.545454545455\n",
      "8B\t\t\t0.809523809524\n",
      "16A\t\t\t0.904761904762\n"
     ]
    }
   ],
   "source": [
    "exemplars=np.array([[1,1,1,0],[1,0,1,0],[1,0,1,1],[1,1,0,1],[0,1,1,1],[1,1,0,0],[0,1,1,0],[0,0,0,1],[0,0,0,0]])\n",
    "trans_stim=np.array([[1,0,0,1],[1,1,1,1],[0,1,0,1],[0,0,1,1],[1,0,0,0],[0,0,1,0],[0,1,0,0]])\n",
    "exemplars_names=np.array(['4A','7A','15A','13A','5A','12B','2B','14B','10B'])\n",
    "trans_stim_names=np.array(['1A','6A','9B','11B','3A','8B','16A'])\n",
    "pars=np.array([.00,.20,.10,.40])\n",
    "model(exemplars,trans_stim,exemplars_names,trans_stim_names,pars,5,4)"
   ]
  },
  {
   "cell_type": "markdown",
   "metadata": {},
   "source": [
    "Experiment 3 seems to be fine. If we compare the output with the Table 4, there are not major differences.  \n",
    "*Note: Stimuli probability of 9A=1-probability of 9B, 11A=1-probability of 11B, 3B=probability of 3A*\n",
    "![Table 4](img/medin2.png)"
   ]
  },
  {
   "cell_type": "markdown",
   "metadata": {},
   "source": [
    "# Experiment 4"
   ]
  },
  {
   "cell_type": "code",
   "execution_count": 23,
   "metadata": {
    "collapsed": false
   },
   "outputs": [
    {
     "name": "stdout",
     "output_type": "stream",
     "text": [
      "Stimulus number\t\tPredicted probability\n",
      "2A\t\t\t0.737850144598\n",
      "4A\t\t\t0.902426350985\n",
      "5A\t\t\t0.800048873711\n",
      "7A\t\t\t0.719651615695\n",
      "13A\t\t\t0.78457274996\n",
      "15A\t\t\t0.709160974643\n",
      "1B\t\t\t0.699837631502\n",
      "3B\t\t\t0.73835719656\n",
      "8B\t\t\t0.727331192801\n",
      "11B\t\t\t0.728566781548\n",
      "16B\t\t\t0.693685604349\n",
      "6A\t\t\t0.889195721911\n",
      "9A\t\t\t0.562852049249\n",
      "10B\t\t\t0.832383171054\n",
      "12A\t\t\t0.620613246937\n",
      "14B\t\t\t0.789389340146\n"
     ]
    }
   ],
   "source": [
    "exemplars=np.array([[0,1,1,0],[1,1,1,0],[0,1,1,1],[1,0,1,0],[1,1,0,1],[1,0,1,1],[1,0,0,1],\n",
    "                    [1,0,0,0],[0,0,1,0],[0,0,1,1],[0,1,0,0]])\n",
    "trans_stim=np.array([[1,1,1,1],[0,1,0,1],[0,0,0,0],[1,1,0,0],[0,0,0,1]])\n",
    "exemplars_names=np.array(['2A','4A','5A','7A','13A','15A','1B','3B','8B','11B','16B'])\n",
    "trans_stim_names=np.array(['6A','9A','10B','12A','14B'])\n",
    "pars=np.array([.18,.20,.28,.33])\n",
    "model(exemplars,trans_stim,exemplars_names,trans_stim_names,pars,6,5)"
   ]
  },
  {
   "cell_type": "markdown",
   "metadata": {},
   "source": [
    "These results are also different from the published, specifically for stimuli 15A and 14B.  \n",
    "![Table 5](img/medin3.png)"
   ]
  },
  {
   "cell_type": "markdown",
   "metadata": {},
   "source": [
    "*Reference: Medin, D. L., & Schaffer, M. M. (1978). Context theory of classification learning. Psychological review, 85(3), 207.*"
   ]
  },
  {
   "cell_type": "code",
   "execution_count": null,
   "metadata": {
    "collapsed": true
   },
   "outputs": [],
   "source": []
  }
 ],
 "metadata": {
  "anaconda-cloud": {},
  "kernelspec": {
   "display_name": "Python [default]",
   "language": "python",
   "name": "python2"
  },
  "language_info": {
   "codemirror_mode": {
    "name": "ipython",
    "version": 2
   },
   "file_extension": ".py",
   "mimetype": "text/x-python",
   "name": "python",
   "nbconvert_exporter": "python",
   "pygments_lexer": "ipython2",
   "version": "2.7.12"
  }
 },
 "nbformat": 4,
 "nbformat_minor": 0
}
